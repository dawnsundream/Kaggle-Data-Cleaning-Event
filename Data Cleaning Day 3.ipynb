{
 "cells": [
  {
   "cell_type": "markdown",
   "metadata": {},
   "source": [
    "## Parsing Dates"
   ]
  },
  {
   "cell_type": "code",
   "execution_count": 25,
   "metadata": {},
   "outputs": [],
   "source": [
    "import pandas as pd\n",
    "import numpy as np\n",
    "import seaborn as sns\n",
    "import datetime\n",
    "%matplotlib inline"
   ]
  },
  {
   "cell_type": "code",
   "execution_count": 3,
   "metadata": {},
   "outputs": [],
   "source": [
    "earthquakes = pd.read_csv(\"database.csv\")\n",
    "landslides = pd.read_csv(\"catalog.csv\")\n",
    "volcanos = pd.read_csv(\"volcanic_database.csv\")\n",
    "np.random.seed(0)"
   ]
  },
  {
   "cell_type": "code",
   "execution_count": 4,
   "metadata": {},
   "outputs": [
    {
     "data": {
      "text/html": [
       "<div>\n",
       "<style scoped>\n",
       "    .dataframe tbody tr th:only-of-type {\n",
       "        vertical-align: middle;\n",
       "    }\n",
       "\n",
       "    .dataframe tbody tr th {\n",
       "        vertical-align: top;\n",
       "    }\n",
       "\n",
       "    .dataframe thead th {\n",
       "        text-align: right;\n",
       "    }\n",
       "</style>\n",
       "<table border=\"1\" class=\"dataframe\">\n",
       "  <thead>\n",
       "    <tr style=\"text-align: right;\">\n",
       "      <th></th>\n",
       "      <th>Date</th>\n",
       "      <th>Time</th>\n",
       "      <th>Latitude</th>\n",
       "      <th>Longitude</th>\n",
       "      <th>Type</th>\n",
       "      <th>Depth</th>\n",
       "      <th>Depth Error</th>\n",
       "      <th>Depth Seismic Stations</th>\n",
       "      <th>Magnitude</th>\n",
       "      <th>Magnitude Type</th>\n",
       "      <th>...</th>\n",
       "      <th>Magnitude Seismic Stations</th>\n",
       "      <th>Azimuthal Gap</th>\n",
       "      <th>Horizontal Distance</th>\n",
       "      <th>Horizontal Error</th>\n",
       "      <th>Root Mean Square</th>\n",
       "      <th>ID</th>\n",
       "      <th>Source</th>\n",
       "      <th>Location Source</th>\n",
       "      <th>Magnitude Source</th>\n",
       "      <th>Status</th>\n",
       "    </tr>\n",
       "  </thead>\n",
       "  <tbody>\n",
       "    <tr>\n",
       "      <th>0</th>\n",
       "      <td>01/02/1965</td>\n",
       "      <td>13:44:18</td>\n",
       "      <td>19.246</td>\n",
       "      <td>145.616</td>\n",
       "      <td>Earthquake</td>\n",
       "      <td>131.6</td>\n",
       "      <td>NaN</td>\n",
       "      <td>NaN</td>\n",
       "      <td>6.0</td>\n",
       "      <td>MW</td>\n",
       "      <td>...</td>\n",
       "      <td>NaN</td>\n",
       "      <td>NaN</td>\n",
       "      <td>NaN</td>\n",
       "      <td>NaN</td>\n",
       "      <td>NaN</td>\n",
       "      <td>ISCGEM860706</td>\n",
       "      <td>ISCGEM</td>\n",
       "      <td>ISCGEM</td>\n",
       "      <td>ISCGEM</td>\n",
       "      <td>Automatic</td>\n",
       "    </tr>\n",
       "    <tr>\n",
       "      <th>1</th>\n",
       "      <td>01/04/1965</td>\n",
       "      <td>11:29:49</td>\n",
       "      <td>1.863</td>\n",
       "      <td>127.352</td>\n",
       "      <td>Earthquake</td>\n",
       "      <td>80.0</td>\n",
       "      <td>NaN</td>\n",
       "      <td>NaN</td>\n",
       "      <td>5.8</td>\n",
       "      <td>MW</td>\n",
       "      <td>...</td>\n",
       "      <td>NaN</td>\n",
       "      <td>NaN</td>\n",
       "      <td>NaN</td>\n",
       "      <td>NaN</td>\n",
       "      <td>NaN</td>\n",
       "      <td>ISCGEM860737</td>\n",
       "      <td>ISCGEM</td>\n",
       "      <td>ISCGEM</td>\n",
       "      <td>ISCGEM</td>\n",
       "      <td>Automatic</td>\n",
       "    </tr>\n",
       "    <tr>\n",
       "      <th>2</th>\n",
       "      <td>01/05/1965</td>\n",
       "      <td>18:05:58</td>\n",
       "      <td>-20.579</td>\n",
       "      <td>-173.972</td>\n",
       "      <td>Earthquake</td>\n",
       "      <td>20.0</td>\n",
       "      <td>NaN</td>\n",
       "      <td>NaN</td>\n",
       "      <td>6.2</td>\n",
       "      <td>MW</td>\n",
       "      <td>...</td>\n",
       "      <td>NaN</td>\n",
       "      <td>NaN</td>\n",
       "      <td>NaN</td>\n",
       "      <td>NaN</td>\n",
       "      <td>NaN</td>\n",
       "      <td>ISCGEM860762</td>\n",
       "      <td>ISCGEM</td>\n",
       "      <td>ISCGEM</td>\n",
       "      <td>ISCGEM</td>\n",
       "      <td>Automatic</td>\n",
       "    </tr>\n",
       "    <tr>\n",
       "      <th>3</th>\n",
       "      <td>01/08/1965</td>\n",
       "      <td>18:49:43</td>\n",
       "      <td>-59.076</td>\n",
       "      <td>-23.557</td>\n",
       "      <td>Earthquake</td>\n",
       "      <td>15.0</td>\n",
       "      <td>NaN</td>\n",
       "      <td>NaN</td>\n",
       "      <td>5.8</td>\n",
       "      <td>MW</td>\n",
       "      <td>...</td>\n",
       "      <td>NaN</td>\n",
       "      <td>NaN</td>\n",
       "      <td>NaN</td>\n",
       "      <td>NaN</td>\n",
       "      <td>NaN</td>\n",
       "      <td>ISCGEM860856</td>\n",
       "      <td>ISCGEM</td>\n",
       "      <td>ISCGEM</td>\n",
       "      <td>ISCGEM</td>\n",
       "      <td>Automatic</td>\n",
       "    </tr>\n",
       "    <tr>\n",
       "      <th>4</th>\n",
       "      <td>01/09/1965</td>\n",
       "      <td>13:32:50</td>\n",
       "      <td>11.938</td>\n",
       "      <td>126.427</td>\n",
       "      <td>Earthquake</td>\n",
       "      <td>15.0</td>\n",
       "      <td>NaN</td>\n",
       "      <td>NaN</td>\n",
       "      <td>5.8</td>\n",
       "      <td>MW</td>\n",
       "      <td>...</td>\n",
       "      <td>NaN</td>\n",
       "      <td>NaN</td>\n",
       "      <td>NaN</td>\n",
       "      <td>NaN</td>\n",
       "      <td>NaN</td>\n",
       "      <td>ISCGEM860890</td>\n",
       "      <td>ISCGEM</td>\n",
       "      <td>ISCGEM</td>\n",
       "      <td>ISCGEM</td>\n",
       "      <td>Automatic</td>\n",
       "    </tr>\n",
       "  </tbody>\n",
       "</table>\n",
       "<p>5 rows × 21 columns</p>\n",
       "</div>"
      ],
      "text/plain": [
       "         Date      Time  Latitude  Longitude        Type  Depth  Depth Error  \\\n",
       "0  01/02/1965  13:44:18    19.246    145.616  Earthquake  131.6          NaN   \n",
       "1  01/04/1965  11:29:49     1.863    127.352  Earthquake   80.0          NaN   \n",
       "2  01/05/1965  18:05:58   -20.579   -173.972  Earthquake   20.0          NaN   \n",
       "3  01/08/1965  18:49:43   -59.076    -23.557  Earthquake   15.0          NaN   \n",
       "4  01/09/1965  13:32:50    11.938    126.427  Earthquake   15.0          NaN   \n",
       "\n",
       "   Depth Seismic Stations  Magnitude Magnitude Type    ...      \\\n",
       "0                     NaN        6.0             MW    ...       \n",
       "1                     NaN        5.8             MW    ...       \n",
       "2                     NaN        6.2             MW    ...       \n",
       "3                     NaN        5.8             MW    ...       \n",
       "4                     NaN        5.8             MW    ...       \n",
       "\n",
       "   Magnitude Seismic Stations  Azimuthal Gap  Horizontal Distance  \\\n",
       "0                         NaN            NaN                  NaN   \n",
       "1                         NaN            NaN                  NaN   \n",
       "2                         NaN            NaN                  NaN   \n",
       "3                         NaN            NaN                  NaN   \n",
       "4                         NaN            NaN                  NaN   \n",
       "\n",
       "   Horizontal Error  Root Mean Square            ID  Source Location Source  \\\n",
       "0               NaN               NaN  ISCGEM860706  ISCGEM          ISCGEM   \n",
       "1               NaN               NaN  ISCGEM860737  ISCGEM          ISCGEM   \n",
       "2               NaN               NaN  ISCGEM860762  ISCGEM          ISCGEM   \n",
       "3               NaN               NaN  ISCGEM860856  ISCGEM          ISCGEM   \n",
       "4               NaN               NaN  ISCGEM860890  ISCGEM          ISCGEM   \n",
       "\n",
       "  Magnitude Source     Status  \n",
       "0           ISCGEM  Automatic  \n",
       "1           ISCGEM  Automatic  \n",
       "2           ISCGEM  Automatic  \n",
       "3           ISCGEM  Automatic  \n",
       "4           ISCGEM  Automatic  \n",
       "\n",
       "[5 rows x 21 columns]"
      ]
     },
     "execution_count": 4,
     "metadata": {},
     "output_type": "execute_result"
    }
   ],
   "source": [
    "earthquakes.head()"
   ]
  },
  {
   "cell_type": "code",
   "execution_count": 5,
   "metadata": {},
   "outputs": [
    {
     "data": {
      "text/html": [
       "<div>\n",
       "<style scoped>\n",
       "    .dataframe tbody tr th:only-of-type {\n",
       "        vertical-align: middle;\n",
       "    }\n",
       "\n",
       "    .dataframe tbody tr th {\n",
       "        vertical-align: top;\n",
       "    }\n",
       "\n",
       "    .dataframe thead th {\n",
       "        text-align: right;\n",
       "    }\n",
       "</style>\n",
       "<table border=\"1\" class=\"dataframe\">\n",
       "  <thead>\n",
       "    <tr style=\"text-align: right;\">\n",
       "      <th></th>\n",
       "      <th>id</th>\n",
       "      <th>date</th>\n",
       "      <th>time</th>\n",
       "      <th>continent_code</th>\n",
       "      <th>country_name</th>\n",
       "      <th>country_code</th>\n",
       "      <th>state/province</th>\n",
       "      <th>population</th>\n",
       "      <th>city/town</th>\n",
       "      <th>distance</th>\n",
       "      <th>...</th>\n",
       "      <th>geolocation</th>\n",
       "      <th>hazard_type</th>\n",
       "      <th>landslide_type</th>\n",
       "      <th>landslide_size</th>\n",
       "      <th>trigger</th>\n",
       "      <th>storm_name</th>\n",
       "      <th>injuries</th>\n",
       "      <th>fatalities</th>\n",
       "      <th>source_name</th>\n",
       "      <th>source_link</th>\n",
       "    </tr>\n",
       "  </thead>\n",
       "  <tbody>\n",
       "    <tr>\n",
       "      <th>0</th>\n",
       "      <td>34</td>\n",
       "      <td>3/2/07</td>\n",
       "      <td>Night</td>\n",
       "      <td>NaN</td>\n",
       "      <td>United States</td>\n",
       "      <td>US</td>\n",
       "      <td>Virginia</td>\n",
       "      <td>16000</td>\n",
       "      <td>Cherry Hill</td>\n",
       "      <td>3.40765</td>\n",
       "      <td>...</td>\n",
       "      <td>(38.600900000000003, -77.268199999999993)</td>\n",
       "      <td>Landslide</td>\n",
       "      <td>Landslide</td>\n",
       "      <td>Small</td>\n",
       "      <td>Rain</td>\n",
       "      <td>NaN</td>\n",
       "      <td>NaN</td>\n",
       "      <td>NaN</td>\n",
       "      <td>NBC 4 news</td>\n",
       "      <td>http://www.nbc4.com/news/11186871/detail.html</td>\n",
       "    </tr>\n",
       "    <tr>\n",
       "      <th>1</th>\n",
       "      <td>42</td>\n",
       "      <td>3/22/07</td>\n",
       "      <td>NaN</td>\n",
       "      <td>NaN</td>\n",
       "      <td>United States</td>\n",
       "      <td>US</td>\n",
       "      <td>Ohio</td>\n",
       "      <td>17288</td>\n",
       "      <td>New Philadelphia</td>\n",
       "      <td>3.33522</td>\n",
       "      <td>...</td>\n",
       "      <td>(40.517499999999998, -81.430499999999995)</td>\n",
       "      <td>Landslide</td>\n",
       "      <td>Landslide</td>\n",
       "      <td>Small</td>\n",
       "      <td>Rain</td>\n",
       "      <td>NaN</td>\n",
       "      <td>NaN</td>\n",
       "      <td>NaN</td>\n",
       "      <td>Canton Rep.com</td>\n",
       "      <td>http://www.cantonrep.com/index.php?ID=345054&amp;C...</td>\n",
       "    </tr>\n",
       "    <tr>\n",
       "      <th>2</th>\n",
       "      <td>56</td>\n",
       "      <td>4/6/07</td>\n",
       "      <td>NaN</td>\n",
       "      <td>NaN</td>\n",
       "      <td>United States</td>\n",
       "      <td>US</td>\n",
       "      <td>Pennsylvania</td>\n",
       "      <td>15930</td>\n",
       "      <td>Wilkinsburg</td>\n",
       "      <td>2.91977</td>\n",
       "      <td>...</td>\n",
       "      <td>(40.4377, -79.915999999999997)</td>\n",
       "      <td>Landslide</td>\n",
       "      <td>Landslide</td>\n",
       "      <td>Small</td>\n",
       "      <td>Rain</td>\n",
       "      <td>NaN</td>\n",
       "      <td>NaN</td>\n",
       "      <td>NaN</td>\n",
       "      <td>The Pittsburgh Channel.com</td>\n",
       "      <td>https://web.archive.org/web/20080423132842/htt...</td>\n",
       "    </tr>\n",
       "    <tr>\n",
       "      <th>3</th>\n",
       "      <td>59</td>\n",
       "      <td>4/14/07</td>\n",
       "      <td>NaN</td>\n",
       "      <td>NaN</td>\n",
       "      <td>Canada</td>\n",
       "      <td>CA</td>\n",
       "      <td>Quebec</td>\n",
       "      <td>42786</td>\n",
       "      <td>Châteauguay</td>\n",
       "      <td>2.98682</td>\n",
       "      <td>...</td>\n",
       "      <td>(45.322600000000001, -73.777100000000004)</td>\n",
       "      <td>Landslide</td>\n",
       "      <td>Riverbank collapse</td>\n",
       "      <td>Small</td>\n",
       "      <td>Rain</td>\n",
       "      <td>NaN</td>\n",
       "      <td>NaN</td>\n",
       "      <td>NaN</td>\n",
       "      <td>Le Soleil</td>\n",
       "      <td>http://www.hebdos.net/lsc/edition162007/articl...</td>\n",
       "    </tr>\n",
       "    <tr>\n",
       "      <th>4</th>\n",
       "      <td>61</td>\n",
       "      <td>4/15/07</td>\n",
       "      <td>NaN</td>\n",
       "      <td>NaN</td>\n",
       "      <td>United States</td>\n",
       "      <td>US</td>\n",
       "      <td>Kentucky</td>\n",
       "      <td>6903</td>\n",
       "      <td>Pikeville</td>\n",
       "      <td>5.66542</td>\n",
       "      <td>...</td>\n",
       "      <td>(37.432499999999997, -82.493099999999998)</td>\n",
       "      <td>Landslide</td>\n",
       "      <td>Landslide</td>\n",
       "      <td>Small</td>\n",
       "      <td>Downpour</td>\n",
       "      <td>NaN</td>\n",
       "      <td>NaN</td>\n",
       "      <td>0.0</td>\n",
       "      <td>Matthew Crawford (KGS)</td>\n",
       "      <td>NaN</td>\n",
       "    </tr>\n",
       "  </tbody>\n",
       "</table>\n",
       "<p>5 rows × 23 columns</p>\n",
       "</div>"
      ],
      "text/plain": [
       "   id     date   time continent_code   country_name country_code  \\\n",
       "0  34   3/2/07  Night            NaN  United States           US   \n",
       "1  42  3/22/07    NaN            NaN  United States           US   \n",
       "2  56   4/6/07    NaN            NaN  United States           US   \n",
       "3  59  4/14/07    NaN            NaN         Canada           CA   \n",
       "4  61  4/15/07    NaN            NaN  United States           US   \n",
       "\n",
       "  state/province  population         city/town  distance  \\\n",
       "0       Virginia       16000       Cherry Hill   3.40765   \n",
       "1           Ohio       17288  New Philadelphia   3.33522   \n",
       "2   Pennsylvania       15930       Wilkinsburg   2.91977   \n",
       "3         Quebec       42786       Châteauguay   2.98682   \n",
       "4       Kentucky        6903         Pikeville   5.66542   \n",
       "\n",
       "                         ...                          \\\n",
       "0                        ...                           \n",
       "1                        ...                           \n",
       "2                        ...                           \n",
       "3                        ...                           \n",
       "4                        ...                           \n",
       "\n",
       "                                 geolocation  hazard_type      landslide_type  \\\n",
       "0  (38.600900000000003, -77.268199999999993)    Landslide           Landslide   \n",
       "1  (40.517499999999998, -81.430499999999995)    Landslide           Landslide   \n",
       "2             (40.4377, -79.915999999999997)    Landslide           Landslide   \n",
       "3  (45.322600000000001, -73.777100000000004)    Landslide  Riverbank collapse   \n",
       "4  (37.432499999999997, -82.493099999999998)    Landslide           Landslide   \n",
       "\n",
       "  landslide_size   trigger storm_name injuries fatalities  \\\n",
       "0          Small      Rain        NaN      NaN        NaN   \n",
       "1          Small      Rain        NaN      NaN        NaN   \n",
       "2          Small      Rain        NaN      NaN        NaN   \n",
       "3          Small      Rain        NaN      NaN        NaN   \n",
       "4          Small  Downpour        NaN      NaN        0.0   \n",
       "\n",
       "                  source_name  \\\n",
       "0                  NBC 4 news   \n",
       "1              Canton Rep.com   \n",
       "2  The Pittsburgh Channel.com   \n",
       "3                   Le Soleil   \n",
       "4      Matthew Crawford (KGS)   \n",
       "\n",
       "                                         source_link  \n",
       "0      http://www.nbc4.com/news/11186871/detail.html  \n",
       "1  http://www.cantonrep.com/index.php?ID=345054&C...  \n",
       "2  https://web.archive.org/web/20080423132842/htt...  \n",
       "3  http://www.hebdos.net/lsc/edition162007/articl...  \n",
       "4                                                NaN  \n",
       "\n",
       "[5 rows x 23 columns]"
      ]
     },
     "execution_count": 5,
     "metadata": {},
     "output_type": "execute_result"
    }
   ],
   "source": [
    "landslides.head()"
   ]
  },
  {
   "cell_type": "code",
   "execution_count": 6,
   "metadata": {},
   "outputs": [
    {
     "data": {
      "text/html": [
       "<div>\n",
       "<style scoped>\n",
       "    .dataframe tbody tr th:only-of-type {\n",
       "        vertical-align: middle;\n",
       "    }\n",
       "\n",
       "    .dataframe tbody tr th {\n",
       "        vertical-align: top;\n",
       "    }\n",
       "\n",
       "    .dataframe thead th {\n",
       "        text-align: right;\n",
       "    }\n",
       "</style>\n",
       "<table border=\"1\" class=\"dataframe\">\n",
       "  <thead>\n",
       "    <tr style=\"text-align: right;\">\n",
       "      <th></th>\n",
       "      <th>Number</th>\n",
       "      <th>Name</th>\n",
       "      <th>Country</th>\n",
       "      <th>Region</th>\n",
       "      <th>Type</th>\n",
       "      <th>Activity Evidence</th>\n",
       "      <th>Last Known Eruption</th>\n",
       "      <th>Latitude</th>\n",
       "      <th>Longitude</th>\n",
       "      <th>Elevation (Meters)</th>\n",
       "      <th>Dominant Rock Type</th>\n",
       "      <th>Tectonic Setting</th>\n",
       "    </tr>\n",
       "  </thead>\n",
       "  <tbody>\n",
       "    <tr>\n",
       "      <th>0</th>\n",
       "      <td>210010</td>\n",
       "      <td>West Eifel Volcanic Field</td>\n",
       "      <td>Germany</td>\n",
       "      <td>Mediterranean and Western Asia</td>\n",
       "      <td>Maar(s)</td>\n",
       "      <td>Eruption Dated</td>\n",
       "      <td>8300 BCE</td>\n",
       "      <td>50.170</td>\n",
       "      <td>6.85</td>\n",
       "      <td>600</td>\n",
       "      <td>Foidite</td>\n",
       "      <td>Rift Zone / Continental Crust (&gt;25 km)</td>\n",
       "    </tr>\n",
       "    <tr>\n",
       "      <th>1</th>\n",
       "      <td>210020</td>\n",
       "      <td>Chaine des Puys</td>\n",
       "      <td>France</td>\n",
       "      <td>Mediterranean and Western Asia</td>\n",
       "      <td>Lava dome(s)</td>\n",
       "      <td>Eruption Dated</td>\n",
       "      <td>4040 BCE</td>\n",
       "      <td>45.775</td>\n",
       "      <td>2.97</td>\n",
       "      <td>1464</td>\n",
       "      <td>Basalt / Picro-Basalt</td>\n",
       "      <td>Rift Zone / Continental Crust (&gt;25 km)</td>\n",
       "    </tr>\n",
       "    <tr>\n",
       "      <th>2</th>\n",
       "      <td>210030</td>\n",
       "      <td>Olot Volcanic Field</td>\n",
       "      <td>Spain</td>\n",
       "      <td>Mediterranean and Western Asia</td>\n",
       "      <td>Pyroclastic cone(s)</td>\n",
       "      <td>Evidence Credible</td>\n",
       "      <td>Unknown</td>\n",
       "      <td>42.170</td>\n",
       "      <td>2.53</td>\n",
       "      <td>893</td>\n",
       "      <td>Trachybasalt / Tephrite Basanite</td>\n",
       "      <td>Intraplate / Continental Crust (&gt;25 km)</td>\n",
       "    </tr>\n",
       "    <tr>\n",
       "      <th>3</th>\n",
       "      <td>210040</td>\n",
       "      <td>Calatrava Volcanic Field</td>\n",
       "      <td>Spain</td>\n",
       "      <td>Mediterranean and Western Asia</td>\n",
       "      <td>Pyroclastic cone(s)</td>\n",
       "      <td>Eruption Dated</td>\n",
       "      <td>3600 BCE</td>\n",
       "      <td>38.870</td>\n",
       "      <td>-4.02</td>\n",
       "      <td>1117</td>\n",
       "      <td>Basalt / Picro-Basalt</td>\n",
       "      <td>Intraplate / Continental Crust (&gt;25 km)</td>\n",
       "    </tr>\n",
       "    <tr>\n",
       "      <th>4</th>\n",
       "      <td>211001</td>\n",
       "      <td>Larderello</td>\n",
       "      <td>Italy</td>\n",
       "      <td>Mediterranean and Western Asia</td>\n",
       "      <td>Explosion crater(s)</td>\n",
       "      <td>Eruption Observed</td>\n",
       "      <td>1282 CE</td>\n",
       "      <td>43.250</td>\n",
       "      <td>10.87</td>\n",
       "      <td>500</td>\n",
       "      <td>No Data</td>\n",
       "      <td>Subduction Zone / Continental Crust (&gt;25 km)</td>\n",
       "    </tr>\n",
       "  </tbody>\n",
       "</table>\n",
       "</div>"
      ],
      "text/plain": [
       "   Number                       Name  Country                          Region  \\\n",
       "0  210010  West Eifel Volcanic Field  Germany  Mediterranean and Western Asia   \n",
       "1  210020            Chaine des Puys   France  Mediterranean and Western Asia   \n",
       "2  210030        Olot Volcanic Field    Spain  Mediterranean and Western Asia   \n",
       "3  210040   Calatrava Volcanic Field    Spain  Mediterranean and Western Asia   \n",
       "4  211001                 Larderello    Italy  Mediterranean and Western Asia   \n",
       "\n",
       "                  Type  Activity Evidence Last Known Eruption  Latitude  \\\n",
       "0              Maar(s)     Eruption Dated            8300 BCE    50.170   \n",
       "1         Lava dome(s)     Eruption Dated            4040 BCE    45.775   \n",
       "2  Pyroclastic cone(s)  Evidence Credible             Unknown    42.170   \n",
       "3  Pyroclastic cone(s)     Eruption Dated            3600 BCE    38.870   \n",
       "4  Explosion crater(s)  Eruption Observed             1282 CE    43.250   \n",
       "\n",
       "   Longitude  Elevation (Meters)                Dominant Rock Type  \\\n",
       "0       6.85                 600                           Foidite   \n",
       "1       2.97                1464             Basalt / Picro-Basalt   \n",
       "2       2.53                 893  Trachybasalt / Tephrite Basanite   \n",
       "3      -4.02                1117             Basalt / Picro-Basalt   \n",
       "4      10.87                 500                           No Data   \n",
       "\n",
       "                               Tectonic Setting  \n",
       "0        Rift Zone / Continental Crust (>25 km)  \n",
       "1        Rift Zone / Continental Crust (>25 km)  \n",
       "2       Intraplate / Continental Crust (>25 km)  \n",
       "3       Intraplate / Continental Crust (>25 km)  \n",
       "4  Subduction Zone / Continental Crust (>25 km)  "
      ]
     },
     "execution_count": 6,
     "metadata": {},
     "output_type": "execute_result"
    }
   ],
   "source": [
    "volcanos.head()"
   ]
  },
  {
   "cell_type": "code",
   "execution_count": 7,
   "metadata": {},
   "outputs": [
    {
     "name": "stdout",
     "output_type": "stream",
     "text": [
      "0     3/2/07\n",
      "1    3/22/07\n",
      "2     4/6/07\n",
      "3    4/14/07\n",
      "4    4/15/07\n",
      "Name: date, dtype: object\n"
     ]
    }
   ],
   "source": [
    "#print the first few rows of the date column\n",
    "print(landslides['date'].head())"
   ]
  },
  {
   "cell_type": "markdown",
   "metadata": {},
   "source": [
    "Dtype of date column is object instead of datetime. Python doesn't know that this column contains dates."
   ]
  },
  {
   "cell_type": "code",
   "execution_count": 8,
   "metadata": {},
   "outputs": [
    {
     "data": {
      "text/plain": [
       "dtype('O')"
      ]
     },
     "execution_count": 8,
     "metadata": {},
     "output_type": "execute_result"
    }
   ],
   "source": [
    "#check the data type of our date column\n",
    "landslides['date'].dtype"
   ]
  },
  {
   "cell_type": "markdown",
   "metadata": {},
   "source": [
    "From numpy documentation 'O' stands for 'Object'."
   ]
  },
  {
   "cell_type": "code",
   "execution_count": 11,
   "metadata": {},
   "outputs": [
    {
     "data": {
      "text/plain": [
       "dtype('O')"
      ]
     },
     "execution_count": 11,
     "metadata": {},
     "output_type": "execute_result"
    }
   ],
   "source": [
    "earthquakes['Date'].dtype"
   ]
  },
  {
   "cell_type": "markdown",
   "metadata": {},
   "source": [
    "# Converting date columns to datetime"
   ]
  },
  {
   "cell_type": "code",
   "execution_count": 13,
   "metadata": {},
   "outputs": [],
   "source": [
    "#create a new column, date_parsed, with the parsed dates\n",
    "landslides['date_parsed'] = pd.to_datetime(landslides['date'], format = \"%m/%d/%y\")"
   ]
  },
  {
   "cell_type": "code",
   "execution_count": 14,
   "metadata": {},
   "outputs": [
    {
     "data": {
      "text/plain": [
       "0   2007-03-02\n",
       "1   2007-03-22\n",
       "2   2007-04-06\n",
       "3   2007-04-14\n",
       "4   2007-04-15\n",
       "Name: date_parsed, dtype: datetime64[ns]"
      ]
     },
     "execution_count": 14,
     "metadata": {},
     "output_type": "execute_result"
    }
   ],
   "source": [
    "landslides['date_parsed'].head()"
   ]
  },
  {
   "cell_type": "code",
   "execution_count": 16,
   "metadata": {},
   "outputs": [],
   "source": [
    "earthquakes['date_parsed'] = pd.to_datetime(earthquakes['Date'], format = \"%m/%d/%y\",infer_datetime_format=True)"
   ]
  },
  {
   "cell_type": "code",
   "execution_count": 17,
   "metadata": {},
   "outputs": [
    {
     "data": {
      "text/plain": [
       "0   1965-01-02\n",
       "1   1965-01-04\n",
       "2   1965-01-05\n",
       "3   1965-01-08\n",
       "4   1965-01-09\n",
       "Name: date_parsed, dtype: datetime64[ns]"
      ]
     },
     "execution_count": 17,
     "metadata": {},
     "output_type": "execute_result"
    }
   ],
   "source": [
    "earthquakes['date_parsed'].head()"
   ]
  },
  {
   "cell_type": "code",
   "execution_count": 19,
   "metadata": {},
   "outputs": [],
   "source": [
    "#get the day of the month from the date_parsed column\n",
    "day_of_month_landslides = landslides['date_parsed'].dt.day"
   ]
  },
  {
   "cell_type": "code",
   "execution_count": 20,
   "metadata": {},
   "outputs": [
    {
     "data": {
      "text/plain": [
       "0     2.0\n",
       "1    22.0\n",
       "2     6.0\n",
       "3    14.0\n",
       "4    15.0\n",
       "Name: date_parsed, dtype: float64"
      ]
     },
     "execution_count": 20,
     "metadata": {},
     "output_type": "execute_result"
    }
   ],
   "source": [
    "day_of_month_landslides.head()"
   ]
  },
  {
   "cell_type": "code",
   "execution_count": 21,
   "metadata": {},
   "outputs": [],
   "source": [
    "month_of_year_landslides = landslides['date_parsed'].dt.month"
   ]
  },
  {
   "cell_type": "code",
   "execution_count": 22,
   "metadata": {},
   "outputs": [
    {
     "data": {
      "text/plain": [
       "0    3.0\n",
       "1    3.0\n",
       "2    4.0\n",
       "3    4.0\n",
       "4    4.0\n",
       "Name: date_parsed, dtype: float64"
      ]
     },
     "execution_count": 22,
     "metadata": {},
     "output_type": "execute_result"
    }
   ],
   "source": [
    "month_of_year_landslides.head()"
   ]
  },
  {
   "cell_type": "markdown",
   "metadata": {},
   "source": [
    "# Plotting the day of the month\n"
   ]
  },
  {
   "cell_type": "code",
   "execution_count": 24,
   "metadata": {},
   "outputs": [
    {
     "name": "stderr",
     "output_type": "stream",
     "text": [
      "E:\\Anaconda\\lib\\site-packages\\matplotlib\\axes\\_axes.py:6462: UserWarning: The 'normed' kwarg is deprecated, and has been replaced by the 'density' kwarg.\n",
      "  warnings.warn(\"The 'normed' kwarg is deprecated, and has been \"\n"
     ]
    },
    {
     "data": {
      "text/plain": [
       "<matplotlib.axes._subplots.AxesSubplot at 0x1e8168ea978>"
      ]
     },
     "execution_count": 24,
     "metadata": {},
     "output_type": "execute_result"
    },
    {
     "data": {
      "image/png": "[encoded data removed]",
      "text/plain": [
       "<Figure size 432x288 with 1 Axes>"
      ]
     },
     "metadata": {},
     "output_type": "display_data"
    }
   ],
   "source": [
    "#remove na's\n",
    "day_of_month_landslides = day_of_month_landslides.dropna()\n",
    "\n",
    "#plot the day of the month\n",
    "sns.distplot(day_of_month_landslides, kde=False, bins=31)"
   ]
  },
  {
   "cell_type": "code",
   "execution_count": 26,
   "metadata": {},
   "outputs": [
    {
     "name": "stderr",
     "output_type": "stream",
     "text": [
      "E:\\Anaconda\\lib\\site-packages\\matplotlib\\axes\\_axes.py:6462: UserWarning: The 'normed' kwarg is deprecated, and has been replaced by the 'density' kwarg.\n",
      "  warnings.warn(\"The 'normed' kwarg is deprecated, and has been \"\n"
     ]
    },
    {
     "data": {
      "text/plain": [
       "<matplotlib.axes._subplots.AxesSubplot at 0x1e8169208d0>"
      ]
     },
     "execution_count": 26,
     "metadata": {},
     "output_type": "execute_result"
    },
    {
     "data": {
      "image/png": "[encoded data removed]",
      "text/plain": [
       "<Figure size 432x288 with 1 Axes>"
      ]
     },
     "metadata": {},
     "output_type": "display_data"
    }
   ],
   "source": [
    "month_of_year_landslides = month_of_year_landslides.dropna()\n",
    "sns.distplot(month_of_year_landslides, kde=False, bins=12)"
   ]
  },
  {
   "cell_type": "code",
   "execution_count": null,
   "metadata": {},
   "outputs": [],
   "source": []
  }
 ],
 "metadata": {
  "kernelspec": {
   "display_name": "Python 3",
   "language": "python",
   "name": "python3"
  },
  "language_info": {
   "codemirror_mode": {
    "name": "ipython",
    "version": 3
   },
   "file_extension": ".py",
   "mimetype": "text/x-python",
   "name": "python",
   "nbconvert_exporter": "python",
   "pygments_lexer": "ipython3",
   "version": "3.6.5"
  }
 },
 "nbformat": 4,
 "nbformat_minor": 2
}
